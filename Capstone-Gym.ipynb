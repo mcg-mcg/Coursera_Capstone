{
 "cells": [
  {
   "cell_type": "markdown",
   "metadata": {
    "button": false,
    "new_sheet": false,
    "run_control": {
     "read_only": false
    }
   },
   "source": [
    "<h1 align=center><font size = 5>Capstone Project - Opportunistic Opening of a Gym</font></h1>"
   ]
  },
  {
   "cell_type": "markdown",
   "metadata": {
    "button": false,
    "new_sheet": false,
    "run_control": {
     "read_only": false
    }
   },
   "source": [
    "## Introduction - Business Problem\n",
    "\n",
    "I am a freelance consultant, advising small businesses. One customer, active in the fitness sector, contacted me with the following idea:\n",
    "Due to the current Corona (Covid-19) crisis he expects that several restaurants will go bankrupt; especially bad restaurants. He wants to take advantage of this situation and cheaply take over one restaurant and convert it into a gym. He already owns several gyms, but wants to expand into New York with a first gym, in the center of Manhattan - where cheap locations are hard to find. Of course the new gym has to be at a location, where no other gym is located in the close area.\n",
    "My client asks to provide him a list with bad restaurants in the center of Manhattan, where no gym is located in the close area.\n",
    " "
   ]
  },
  {
   "cell_type": "markdown",
   "metadata": {},
   "source": [
    "## Data Source\n",
    "The problem will be solved as follows: 1 - Define the center of Manhattan (e.g. time square) and get the location data of the center from Foursquare. 2 - Find all restaurants in the wider area of the center (e.g. 5 miles); get the rating of all restaurants, and only select restaurants with a bad rating (e.g. rating lower than 10% percentile). Venues (Restaurants) and Ratings are available in Foursquare. 3 - Drop all restaurants that have a gym in the close area (e.g. within 0.5 miles). Gyms and their geographical locations are available in Foursquare."
   ]
  }
 ],
 "metadata": {
  "kernelspec": {
   "display_name": "Python 3",
   "language": "python",
   "name": "python3"
  },
  "language_info": {
   "codemirror_mode": {
    "name": "ipython",
    "version": 3
   },
   "file_extension": ".py",
   "mimetype": "text/x-python",
   "name": "python",
   "nbconvert_exporter": "python",
   "pygments_lexer": "ipython3",
   "version": "3.7.3"
  },
  "widgets": {
   "state": {},
   "version": "1.1.2"
  }
 },
 "nbformat": 4,
 "nbformat_minor": 2
}
