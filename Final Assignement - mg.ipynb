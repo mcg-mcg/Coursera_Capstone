{
 "cells": [
  {
   "cell_type": "markdown",
   "metadata": {
    "button": false,
    "new_sheet": false,
    "run_control": {
     "read_only": false
    }
   },
   "source": [
    "<h1 align=center><font size = 5>Capstone Project - Opportunistic Opening of a Gym</font></h1>"
   ]
  },
  {
   "cell_type": "markdown",
   "metadata": {
    "button": false,
    "new_sheet": false,
    "run_control": {
     "read_only": false
    }
   },
   "source": [
    "## Introduction\n",
    "\n",
    "see separate Report\n",
    " "
   ]
  },
  {
   "cell_type": "code",
   "execution_count": 3,
   "metadata": {},
   "outputs": [
    {
     "name": "stdout",
     "output_type": "stream",
     "text": [
      "Collecting package metadata (current_repodata.json): ...working... done\n",
      "Solving environment: ...working... done\n",
      "\n",
      "# All requested packages already installed.\n",
      "\n",
      "Collecting package metadata (current_repodata.json): ...working... done\n",
      "Solving environment: ...working... done\n",
      "\n",
      "# All requested packages already installed.\n",
      "\n"
     ]
    }
   ],
   "source": [
    "#Import necessary libraries\n",
    "import requests # library to handle requests\n",
    "import pandas as pd # library for data analsysis\n",
    "import numpy as np # library to handle data in a vectorized manner\n",
    "import random # library for random number generation\n",
    "\n",
    "!conda install -c conda-forge geopy --yes \n",
    "from geopy.geocoders import Nominatim # module to convert an address into latitude and longitude values\n",
    "\n",
    "# libraries for displaying images\n",
    "from IPython.display import Image \n",
    "from IPython.core.display import HTML \n",
    "    \n",
    "# tranforming json file into a pandas dataframe library\n",
    "from pandas.io.json import json_normalize\n",
    "\n",
    "!conda install -c conda-forge folium=0.5.0 --yes\n",
    "import folium # plotting library"
   ]
  },
  {
   "cell_type": "markdown",
   "metadata": {},
   "source": [
    "#### Create list with Restaurants\n",
    "(Limit set on 30 restaurants, as there is a limit on the ratings that can be downloades for free per day)"
   ]
  },
  {
   "cell_type": "code",
   "execution_count": 33,
   "metadata": {},
   "outputs": [],
   "source": [
    "#foursquare credentials\n",
    "CLIENT_ID = 'UYLRJQTAUZZ3PAS3CNVFPLGRHBSVOFAP3CLVHOO0WPOLP2FS' #Foursquare ID\n",
    "CLIENT_SECRET = 'WICKK4GYBDVLAWPKVFFSNB540GTMXIDE5YQHMJ55LCN4LHYA' #Foursquare Secret\n",
    "VERSION = '20180604'\n",
    "LIMIT = 30"
   ]
  },
  {
   "cell_type": "code",
   "execution_count": 34,
   "metadata": {},
   "outputs": [
    {
     "name": "stdout",
     "output_type": "stream",
     "text": [
      "41.73835325 -74.03694730280651\n"
     ]
    }
   ],
   "source": [
    "#Define the center of Manhatten as Time Square\n",
    "\n",
    "address = 'Time Square, New York, NY'\n",
    "\n",
    "geolocator = Nominatim(user_agent=\"foursquare_agent\")\n",
    "location = geolocator.geocode(address)\n",
    "latitude = location.latitude\n",
    "longitude = location.longitude\n",
    "print(latitude, longitude)\n",
    "\n",
    "#manually adjusted latitude/longitude of Time Square\n",
    "latitude = 40.758000\n",
    "longitude = -73.985500\n"
   ]
  },
  {
   "cell_type": "code",
   "execution_count": 35,
   "metadata": {},
   "outputs": [],
   "source": [
    "#Search Restaurants in the close area (radius 1000 meters)\n",
    "search_query = 'Restaurant'\n",
    "radius = 1000\n",
    "url = 'https://api.foursquare.com/v2/venues/search?client_id={}&client_secret={}&ll={},{}&v={}&query={}&radius={}&limit={}'.format(CLIENT_ID, CLIENT_SECRET, latitude, longitude, VERSION, search_query, radius, LIMIT)\n",
    "url\n",
    "results = requests.get(url).json()\n",
    "#results\n"
   ]
  },
  {
   "cell_type": "code",
   "execution_count": 36,
   "metadata": {},
   "outputs": [],
   "source": [
    "#create dataframe (list of restaurants)\n",
    "\n",
    "# assign relevant part of JSON to venues\n",
    "venues = results['response']['venues']\n",
    "\n",
    "# tranform venues into a dataframe\n",
    "dataframe = json_normalize(venues)\n",
    "#dataframe.head()\n"
   ]
  },
  {
   "cell_type": "code",
   "execution_count": 37,
   "metadata": {},
   "outputs": [],
   "source": [
    "#Clean Data\n",
    "# keep only columns that include venue name, and anything that is associated with location\n",
    "filtered_columns = ['name', 'categories'] + [col for col in dataframe.columns if col.startswith('location.')] + ['id']\n",
    "dataframe_filtered = dataframe.loc[:, filtered_columns]\n",
    "\n",
    "# function that extracts the category of the venue\n",
    "def get_category_type(row):\n",
    "    try:\n",
    "        categories_list = row['categories']\n",
    "    except:\n",
    "        categories_list = row['venue.categories']\n",
    "        \n",
    "    if len(categories_list) == 0:\n",
    "        return None\n",
    "    else:\n",
    "        return categories_list[0]['name']\n",
    "\n",
    "# filter the category for each row\n",
    "dataframe_filtered['categories'] = dataframe_filtered.apply(get_category_type, axis=1)\n",
    "\n",
    "# clean column names by keeping only last term\n",
    "dataframe_filtered.columns = [column.split('.')[-1] for column in dataframe_filtered.columns]\n",
    "\n",
    "#Adding a column 'Restaurant' with the value 'True' if the category contains the word 'Restaurant'\n",
    "dataframe_filtered['Restaurant'] = ''\n",
    "\n",
    "for i, row in dataframe_filtered.iterrows():\n",
    "      value = False\n",
    "      if (dataframe_filtered.at[i,'categories']).find(\"Restaurant\") !=-1:\n",
    "        value = True\n",
    "      dataframe_filtered.at[i,'Restaurant'] = value\n",
    "\n",
    "dataframe_filtered = dataframe_filtered[dataframe_filtered['Restaurant'] == True]\n",
    "\n",
    "#add column with entry-number\n",
    "dataframe_filtered['entry']= range(1, len(dataframe_filtered) + 1)\n",
    "dataframe_filtered['entry']=dataframe_filtered['entry'].astype(str)\n",
    "\n"
   ]
  },
  {
   "cell_type": "markdown",
   "metadata": {},
   "source": [
    "# Result 1: List with all Restaurants close to the Center"
   ]
  },
  {
   "cell_type": "code",
   "execution_count": 38,
   "metadata": {},
   "outputs": [],
   "source": [
    "#Export list of Restaurants to csv\n",
    "dataframe_filtered.to_csv('01-All_Restaurants.csv', header=True)"
   ]
  },
  {
   "cell_type": "markdown",
   "metadata": {},
   "source": [
    "# Get Rating and add it to Restaurant list\n",
    "Does not work if quota of foursquare accesses was exceed (500 calls per day)"
   ]
  },
  {
   "cell_type": "code",
   "execution_count": 39,
   "metadata": {},
   "outputs": [],
   "source": [
    "# Create list with Ratings for all Restaurants in Restaurant list\n",
    "#ERROR MESSAGE WHEN CALLS IN FOURSQUARE EXCEEDS QUOTA\n",
    "\n",
    "df_rating2 = pd.DataFrame(columns=['id', 'rating'])\n",
    "\n",
    "for i, row in dataframe_filtered.iterrows():\n",
    "    Rest_ID = dataframe_filtered.at[i,'id']\n",
    "    Rest_ID = Rest_ID + '?'\n",
    "    url = 'https://api.foursquare.com/v2/venues/{}&client_id={}&client_secret={}&v={}'.format(Rest_ID, CLIENT_ID, CLIENT_SECRET, VERSION)\n",
    "    url\n",
    "    results = requests.get(url).json()\n",
    "    venue = results['response']['venue']\n",
    "    df_loop = json_normalize(venue)\n",
    "    df_rating2 = df_rating2.append(df_loop)\n"
   ]
  },
  {
   "cell_type": "code",
   "execution_count": 50,
   "metadata": {},
   "outputs": [
    {
     "data": {
      "text/plain": [
       "rating    7.16875\n",
       "dtype: float64"
      ]
     },
     "execution_count": 50,
     "metadata": {},
     "output_type": "execute_result"
    }
   ],
   "source": [
    "df_rating2[['rating']].mean()"
   ]
  },
  {
   "cell_type": "code",
   "execution_count": 40,
   "metadata": {},
   "outputs": [],
   "source": [
    "#combine restaurant list with rating list and export it as CSV\n",
    "\n",
    "df_rating2[['id','rating']]\n",
    "df_Rest_with_Rating = pd.merge(dataframe_filtered, df_rating2, how='left', on=['id', 'id'])\n",
    "df_Rest_with_Rating=df_Rest_with_Rating[['entry','name_x','rating','id','lat','lng']]"
   ]
  },
  {
   "cell_type": "code",
   "execution_count": 41,
   "metadata": {},
   "outputs": [
    {
     "data": {
      "text/html": [
       "<div>\n",
       "<style scoped>\n",
       "    .dataframe tbody tr th:only-of-type {\n",
       "        vertical-align: middle;\n",
       "    }\n",
       "\n",
       "    .dataframe tbody tr th {\n",
       "        vertical-align: top;\n",
       "    }\n",
       "\n",
       "    .dataframe thead th {\n",
       "        text-align: right;\n",
       "    }\n",
       "</style>\n",
       "<table border=\"1\" class=\"dataframe\">\n",
       "  <thead>\n",
       "    <tr style=\"text-align: right;\">\n",
       "      <th></th>\n",
       "      <th>entry</th>\n",
       "      <th>name_x</th>\n",
       "      <th>rating</th>\n",
       "      <th>id</th>\n",
       "      <th>lat</th>\n",
       "      <th>lng</th>\n",
       "      <th>Good</th>\n",
       "    </tr>\n",
       "  </thead>\n",
       "  <tbody>\n",
       "    <tr>\n",
       "      <th>6</th>\n",
       "      <td>7</td>\n",
       "      <td>Ding BBQ and Hot Pot Restaurant</td>\n",
       "      <td>6.2</td>\n",
       "      <td>57041d93498eefdff07820df</td>\n",
       "      <td>40.760728</td>\n",
       "      <td>-73.986184</td>\n",
       "      <td>False</td>\n",
       "    </tr>\n",
       "    <tr>\n",
       "      <th>7</th>\n",
       "      <td>8</td>\n",
       "      <td>Chazz Palminteri Italian Restaurant</td>\n",
       "      <td>5.7</td>\n",
       "      <td>5638fc92cd10f9db71633582</td>\n",
       "      <td>40.756464</td>\n",
       "      <td>-73.980563</td>\n",
       "      <td>False</td>\n",
       "    </tr>\n",
       "    <tr>\n",
       "      <th>8</th>\n",
       "      <td>9</td>\n",
       "      <td>SOUTHGATE Bar &amp; Restaurant</td>\n",
       "      <td>6.6</td>\n",
       "      <td>4bf3345798ac0f477aaa62a8</td>\n",
       "      <td>40.766262</td>\n",
       "      <td>-73.978536</td>\n",
       "      <td>False</td>\n",
       "    </tr>\n",
       "    <tr>\n",
       "      <th>9</th>\n",
       "      <td>10</td>\n",
       "      <td>Via Italia Restaurant</td>\n",
       "      <td>6.2</td>\n",
       "      <td>4aeccde8f964a5205bcb21e3</td>\n",
       "      <td>40.756888</td>\n",
       "      <td>-73.980923</td>\n",
       "      <td>False</td>\n",
       "    </tr>\n",
       "    <tr>\n",
       "      <th>10</th>\n",
       "      <td>11</td>\n",
       "      <td>Restaurant Triomphe</td>\n",
       "      <td>6.9</td>\n",
       "      <td>45692b08f964a520df3d1fe3</td>\n",
       "      <td>40.755800</td>\n",
       "      <td>-73.982215</td>\n",
       "      <td>False</td>\n",
       "    </tr>\n",
       "    <tr>\n",
       "      <th>11</th>\n",
       "      <td>12</td>\n",
       "      <td>525LEX Restaurant &amp; Lounge</td>\n",
       "      <td>6.3</td>\n",
       "      <td>4e39cb96887777123dd78824</td>\n",
       "      <td>40.755744</td>\n",
       "      <td>-73.972663</td>\n",
       "      <td>False</td>\n",
       "    </tr>\n",
       "    <tr>\n",
       "      <th>12</th>\n",
       "      <td>13</td>\n",
       "      <td>Buenavista Restaurant &amp; Bar</td>\n",
       "      <td>NaN</td>\n",
       "      <td>5bc7c23fa8eb60002c60c349</td>\n",
       "      <td>40.756867</td>\n",
       "      <td>-73.993513</td>\n",
       "      <td>False</td>\n",
       "    </tr>\n",
       "    <tr>\n",
       "      <th>15</th>\n",
       "      <td>16</td>\n",
       "      <td>The Garden Restaurant</td>\n",
       "      <td>6.9</td>\n",
       "      <td>5051fae4e889728152d8dfec</td>\n",
       "      <td>40.762188</td>\n",
       "      <td>-73.971606</td>\n",
       "      <td>False</td>\n",
       "    </tr>\n",
       "    <tr>\n",
       "      <th>16</th>\n",
       "      <td>17</td>\n",
       "      <td>Cancun Mexican Restaurant</td>\n",
       "      <td>6.1</td>\n",
       "      <td>4b79abadf964a520f5092fe3</td>\n",
       "      <td>40.765728</td>\n",
       "      <td>-73.983699</td>\n",
       "      <td>False</td>\n",
       "    </tr>\n",
       "  </tbody>\n",
       "</table>\n",
       "</div>"
      ],
      "text/plain": [
       "   entry                               name_x  rating  \\\n",
       "6      7      Ding BBQ and Hot Pot Restaurant     6.2   \n",
       "7      8  Chazz Palminteri Italian Restaurant     5.7   \n",
       "8      9           SOUTHGATE Bar & Restaurant     6.6   \n",
       "9     10                Via Italia Restaurant     6.2   \n",
       "10    11                  Restaurant Triomphe     6.9   \n",
       "11    12           525LEX Restaurant & Lounge     6.3   \n",
       "12    13          Buenavista Restaurant & Bar     NaN   \n",
       "15    16                The Garden Restaurant     6.9   \n",
       "16    17            Cancun Mexican Restaurant     6.1   \n",
       "\n",
       "                          id        lat        lng   Good  \n",
       "6   57041d93498eefdff07820df  40.760728 -73.986184  False  \n",
       "7   5638fc92cd10f9db71633582  40.756464 -73.980563  False  \n",
       "8   4bf3345798ac0f477aaa62a8  40.766262 -73.978536  False  \n",
       "9   4aeccde8f964a5205bcb21e3  40.756888 -73.980923  False  \n",
       "10  45692b08f964a520df3d1fe3  40.755800 -73.982215  False  \n",
       "11  4e39cb96887777123dd78824  40.755744 -73.972663  False  \n",
       "12  5bc7c23fa8eb60002c60c349  40.756867 -73.993513  False  \n",
       "15  5051fae4e889728152d8dfec  40.762188 -73.971606  False  \n",
       "16  4b79abadf964a520f5092fe3  40.765728 -73.983699  False  "
      ]
     },
     "execution_count": 41,
     "metadata": {},
     "output_type": "execute_result"
    }
   ],
   "source": [
    "#Exclude 'good' restaurants; good defined as rating > 7 (if rating not available = 'bad' restaurant)\n",
    "\n",
    "df_Rest_with_Rating['Good'] = ''\n",
    "ThresholdRating=7\n",
    "\n",
    "for i, row in df_Rest_with_Rating.iterrows():\n",
    "      value = False\n",
    "      if df_Rest_with_Rating.at[i,'rating'] > ThresholdRating:\n",
    "        value = True\n",
    "      df_Rest_with_Rating.at[i,'Good'] = value\n",
    "\n",
    "#drop 'good' restaurants\n",
    "df_Rest_with_Rating_Final = df_Rest_with_Rating[df_Rest_with_Rating['Good'] == False]\n",
    "df_Rest_with_Rating_Final"
   ]
  },
  {
   "cell_type": "markdown",
   "metadata": {},
   "source": [
    "# Result 2: Export List with 'bad' Restaurants close to the Center\n",
    "Does not work if quota of foursquare accesses was exceed (500 calls per day for ratings)"
   ]
  },
  {
   "cell_type": "code",
   "execution_count": 42,
   "metadata": {},
   "outputs": [],
   "source": [
    "#export list with 'bad' Restaurant incl. information on Rating as CSV\n",
    "df_Rest_with_Rating_Final.to_csv('02-Bad_Restaurants.csv', header=True)"
   ]
  },
  {
   "cell_type": "code",
   "execution_count": 43,
   "metadata": {},
   "outputs": [
    {
     "name": "stdout",
     "output_type": "stream",
     "text": [
      "Collecting package metadata (current_repodata.json): ...working... done\n",
      "Solving environment: ...working... done\n",
      "\n",
      "# All requested packages already installed.\n",
      "\n"
     ]
    }
   ],
   "source": [
    "#packages to show restaurants on map\n",
    "!conda install -c conda-forge folium=0.5.0 --yes\n",
    "import folium\n",
    "from folium import plugins\n"
   ]
  },
  {
   "cell_type": "markdown",
   "metadata": {},
   "source": [
    "# Result 3: Map with all Restaurants in close area\n",
    "(Does not exclude 'good' restaurants, if access quota for Foursquare access was reached)"
   ]
  },
  {
   "cell_type": "code",
   "execution_count": 44,
   "metadata": {},
   "outputs": [],
   "source": [
    "# create map with all restaurants\n",
    "rest_map = folium.Map(location=[latitude, longitude], zoom_start=15.5)\n",
    "\n",
    "# instantiate a feature group for the restaurants in the dataframe\n",
    "rest = folium.map.FeatureGroup()\n",
    "\n",
    "# loop through the restaurants\n",
    "for lat, lng, in zip(dataframe_filtered.lat, dataframe_filtered.lng):\n",
    "    rest.add_child(\n",
    "        folium.features.CircleMarker(\n",
    "            [lat, lng],\n",
    "            radius=5, # define how big you want the circle markers to be\n",
    "            color='yellow',\n",
    "            fill=True,\n",
    "            fill_color='blue',\n",
    "            fill_opacity=0.6\n",
    "        )\n",
    "    )\n",
    "\n",
    "# add pop-up text to each marker on the map\n",
    "\n",
    "latitudes = list(dataframe_filtered.lat)\n",
    "longitudes = list(dataframe_filtered.lng)\n",
    "labels = list(dataframe_filtered.entry)\n",
    "\n",
    "for lat, lng, label in zip(latitudes, longitudes, labels):\n",
    "    folium.Marker([lat, lng], popup=label, icon=folium.Icon(color='blue', icon='spoon', prefix='fa')).add_to(rest_map)    \n",
    "    \n",
    "# add restaurants to map\n",
    "rest_map.add_child(rest)\n",
    "\n",
    "rest_map2 = rest_map.add_child(rest)\n",
    "rest_map2.save('03-All_Restaurants_MAP.html')\n",
    "\n"
   ]
  },
  {
   "cell_type": "markdown",
   "metadata": {},
   "source": [
    "# Result 4: Map with all 'bad' Restaurants in close area\n",
    "(Does not exclude 'good' restaurants, if access quota for Foursquare access was reached)"
   ]
  },
  {
   "cell_type": "code",
   "execution_count": 45,
   "metadata": {},
   "outputs": [],
   "source": [
    "# create map with all 'bad' restaurants\n",
    "rest_map = folium.Map(location=[latitude, longitude], zoom_start=15.5)\n",
    "\n",
    "# instantiate a feature group for the restaurants in the dataframe\n",
    "rest = folium.map.FeatureGroup()\n",
    "\n",
    "# loop through the restaurants\n",
    "for lat, lng, in zip(df_Rest_with_Rating_Final.lat, df_Rest_with_Rating_Final.lng):\n",
    "    rest.add_child(\n",
    "        folium.features.CircleMarker(\n",
    "            [lat, lng],\n",
    "            radius=5, # define how big you want the circle markers to be\n",
    "            color='yellow',\n",
    "            fill=True,\n",
    "            fill_color='red',\n",
    "            fill_opacity=0.6\n",
    "        )\n",
    "    )\n",
    "\n",
    "latitudes = list(df_Rest_with_Rating_Final.lat)\n",
    "longitudes = list(df_Rest_with_Rating_Final.lng)\n",
    "labels = list(df_Rest_with_Rating_Final.entry)\n",
    "\n",
    "for lat, lng, label in zip(latitudes, longitudes, labels):\n",
    "    folium.Marker([lat, lng], popup=label, icon=folium.Icon(color='red', icon='spoon', prefix='fa')).add_to(rest_map)    \n",
    "    \n",
    "# add restaurants to map\n",
    "rest_map.add_child(rest)\n",
    "\n",
    "rest_map2 = rest_map.add_child(rest)\n",
    "rest_map2.save('04-Bad_Restaurants_MAP.html')"
   ]
  },
  {
   "cell_type": "markdown",
   "metadata": {},
   "source": [
    "# Result 5: Export list with 'bad' restaurants close to the center, not located next to existing Gym\n",
    "(Does not exclude 'good' restaurants, if access quota for Foursquare access was reached)"
   ]
  },
  {
   "cell_type": "code",
   "execution_count": 46,
   "metadata": {},
   "outputs": [
    {
     "name": "stderr",
     "output_type": "stream",
     "text": [
      "C:\\Users\\matth\\Anaconda3\\lib\\site-packages\\ipykernel_launcher.py:5: SettingWithCopyWarning: \n",
      "A value is trying to be set on a copy of a slice from a DataFrame.\n",
      "Try using .loc[row_indexer,col_indexer] = value instead\n",
      "\n",
      "See the caveats in the documentation: http://pandas.pydata.org/pandas-docs/stable/indexing.html#indexing-view-versus-copy\n",
      "  \"\"\"\n"
     ]
    }
   ],
   "source": [
    "search_query = 'Gym / Fitness Center'\n",
    "radius = 500\n",
    "#add field with distance to next gym\n",
    "\n",
    "df_Rest_with_Rating_Final['distance_gym'] = ''\n",
    "\n",
    "for i, row in df_Rest_with_Rating_Final.iterrows():\n",
    "    latitude = df_Rest_with_Rating_Final.at[i,'lat']\n",
    "    longitude = df_Rest_with_Rating_Final.at[i,'lng']\n",
    "    url = 'https://api.foursquare.com/v2/venues/search?client_id={}&client_secret={}&ll={},{}&v={}&query={}&radius={}&limit={}'.format(CLIENT_ID, CLIENT_SECRET, latitude, longitude, VERSION, search_query, radius, LIMIT)\n",
    "    url\n",
    "    results3 = requests.get(url).json()\n",
    "    gyms = results3['response']['venues']\n",
    "    df_gyms = json_normalize(gyms)\n",
    "    x = df_gyms['location.distance'].min()\n",
    "    df_Rest_with_Rating_Final.at[i,'distance_gym']=x\n",
    "    \n",
    "df_Rest_with_Rating_Final_NoGym = df_Rest_with_Rating_Final['distance_gym']<100\n",
    "\n",
    "df_Rest_with_Rating_Final_NoGym = df_Rest_with_Rating_Final[df_Rest_with_Rating_Final['distance_gym'] >100]\n",
    "\n",
    "#export list with 'bad' Restaurant incl. information on Rating as CSV\n",
    "df_Rest_with_Rating_Final_NoGym.to_csv('05-Bad_Restaurants_NoGym.csv', header=True)\n",
    "   "
   ]
  },
  {
   "cell_type": "markdown",
   "metadata": {},
   "source": [
    "# Result 6: Map with 'bad' restaurants close to the center, not located next to existing Gym\n",
    "(Does not exclude 'good' restaurants, if access quota for Foursquare access was reached)"
   ]
  },
  {
   "cell_type": "code",
   "execution_count": 47,
   "metadata": {},
   "outputs": [],
   "source": [
    "\n",
    "rest_map = folium.Map(location=[latitude, longitude], zoom_start=15.5)\n",
    "\n",
    "# instantiate a feature group for the restaurants in the dataframe\n",
    "rest = folium.map.FeatureGroup()\n",
    "\n",
    "# loop through the restaurants\n",
    "for lat, lng, in zip(df_Rest_with_Rating_Final_NoGym.lat, df_Rest_with_Rating_Final_NoGym.lng):\n",
    "    rest.add_child(\n",
    "        folium.features.CircleMarker(\n",
    "            [lat, lng],\n",
    "            radius=5, # define how big you want the circle markers to be\n",
    "            color='yellow',\n",
    "            fill=True,\n",
    "            fill_color='green',\n",
    "            fill_opacity=0.6\n",
    "        )\n",
    "    )\n",
    "\n",
    "latitudes = list(df_Rest_with_Rating_Final_NoGym.lat)\n",
    "longitudes = list(df_Rest_with_Rating_Final_NoGym.lng)\n",
    "labels = list(df_Rest_with_Rating_Final_NoGym.entry)\n",
    "\n",
    "for lat, lng, label in zip(latitudes, longitudes, labels):\n",
    "    folium.Marker([lat, lng], popup=label, icon=folium.Icon(color='green', icon='spoon', prefix='fa')).add_to(rest_map)    \n",
    "    \n",
    "# add restaurants to map\n",
    "rest_map.add_child(rest)\n",
    "\n",
    "rest_map2 = rest_map.add_child(rest)\n",
    "rest_map2.save('06-Bad_Restaurants_NoGym_MAP.html')"
   ]
  }
 ],
 "metadata": {
  "kernelspec": {
   "display_name": "Python 3",
   "language": "python",
   "name": "python3"
  },
  "language_info": {
   "codemirror_mode": {
    "name": "ipython",
    "version": 3
   },
   "file_extension": ".py",
   "mimetype": "text/x-python",
   "name": "python",
   "nbconvert_exporter": "python",
   "pygments_lexer": "ipython3",
   "version": "3.7.3"
  },
  "widgets": {
   "state": {},
   "version": "1.1.2"
  }
 },
 "nbformat": 4,
 "nbformat_minor": 4
}
